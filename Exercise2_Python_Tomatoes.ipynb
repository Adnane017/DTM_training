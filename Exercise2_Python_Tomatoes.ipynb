{
 "cells": [
  {
   "cell_type": "markdown",
   "metadata": {},
   "source": [
    "#  Naive discriminative learning applied to Spellman's (1996) example"
   ]
  },
  {
   "cell_type": "markdown",
   "metadata": {},
   "source": [
    "## Preliminary steps"
   ]
  },
  {
   "cell_type": "markdown",
   "metadata": {},
   "source": [
    "We need to import the necessary libraries and functions. Don't forget to modify your working directory to match where you cloned Github repository"
   ]
  },
  {
   "cell_type": "code",
   "execution_count": 67,
   "metadata": {},
   "outputs": [],
   "source": [
    "### Import necessary packages\n",
    "import os\n",
    "import csv\n",
    "import re\n",
    "import pandas as pd\n",
    "import numpy as np\n",
    "import itertools\n",
    "from sklearn.metrics import accuracy_score\n",
    "from sklearn.metrics import confusion_matrix\n",
    "import warnings\n",
    "\n",
    "### Set working directory (MODIFY IT TO MATCH YOUR DIRECTORY!!)\n",
    "WD = '/media/adnane/HDD drive/Adnane/Teaching/Tutorials_ooominds/DTM_tutorial/'\n",
    "os.chdir(WD)\n",
    "\n",
    "### Import local packages (DTM)\n",
    "import deep_text_modelling.preprocessing as pr\n",
    "import deep_text_modelling.modelling as md\n",
    "import deep_text_modelling.evaluation as ev\n",
    "\n",
    "# Display option for dataframes and matplotlib\n",
    "warnings.filterwarnings('ignore') # Hide warnings\n",
    "warnings.simplefilter('ignore')\n",
    "pd.set_option('display.max_colwidth', 100) # Max width of columns when displaying a dataframe\n",
    "PREVIOUS_MAX_ROWS = pd.options.display.max_rows\n",
    "pd.options.display.max_rows = 20\n",
    "%matplotlib inline"
   ]
  },
  {
   "cell_type": "markdown",
   "metadata": {},
   "source": [
    "## Data preparation"
   ]
  },
  {
   "cell_type": "markdown",
   "metadata": {},
   "source": [
    "We are ready to read the table (formated as `csv` - comma separated values) and show the first few lines:"
   ]
  },
  {
   "cell_type": "code",
   "execution_count": 6,
   "metadata": {
    "scrolled": true
   },
   "outputs": [
    {
     "data": {
      "text/html": [
       "<div>\n",
       "<style scoped>\n",
       "    .dataframe tbody tr th:only-of-type {\n",
       "        vertical-align: middle;\n",
       "    }\n",
       "\n",
       "    .dataframe tbody tr th {\n",
       "        vertical-align: top;\n",
       "    }\n",
       "\n",
       "    .dataframe thead th {\n",
       "        text-align: right;\n",
       "    }\n",
       "</style>\n",
       "<table border=\"1\" class=\"dataframe\">\n",
       "  <thead>\n",
       "    <tr style=\"text-align: right;\">\n",
       "      <th></th>\n",
       "      <th>cues</th>\n",
       "      <th>outcomes</th>\n",
       "    </tr>\n",
       "  </thead>\n",
       "  <tbody>\n",
       "    <tr>\n",
       "      <th>0</th>\n",
       "      <td>pot</td>\n",
       "      <td>NO.TOMATO</td>\n",
       "    </tr>\n",
       "    <tr>\n",
       "      <th>1</th>\n",
       "      <td>pot_red_blue</td>\n",
       "      <td>TOMATO</td>\n",
       "    </tr>\n",
       "    <tr>\n",
       "      <th>2</th>\n",
       "      <td>pot_red</td>\n",
       "      <td>TOMATO</td>\n",
       "    </tr>\n",
       "    <tr>\n",
       "      <th>3</th>\n",
       "      <td>pot_red</td>\n",
       "      <td>NO.TOMATO</td>\n",
       "    </tr>\n",
       "    <tr>\n",
       "      <th>4</th>\n",
       "      <td>pot_blue</td>\n",
       "      <td>TOMATO</td>\n",
       "    </tr>\n",
       "  </tbody>\n",
       "</table>\n",
       "</div>"
      ],
      "text/plain": [
       "           cues   outcomes\n",
       "0           pot  NO.TOMATO\n",
       "1  pot_red_blue     TOMATO\n",
       "2       pot_red     TOMATO\n",
       "3       pot_red  NO.TOMATO\n",
       "4      pot_blue     TOMATO"
      ]
     },
     "execution_count": 6,
     "metadata": {},
     "output_type": "execute_result"
    }
   ],
   "source": [
    "tomato = pd.read_csv('./Data/spellman.csv')\n",
    "tomato.head()"
   ]
  },
  {
   "cell_type": "markdown",
   "metadata": {},
   "source": [
    "- rows $\\rightarrow$ learning events\n",
    "- columns $\\rightarrow$\n",
    "    + Cues : input units\n",
    "    + Outcomes : output units (a.k.a., targets or teachers or criteria)"
   ]
  },
  {
   "cell_type": "markdown",
   "metadata": {},
   "source": [
    "In the implementation of the **Naive Discrimination Learning** (NDL), we often use some *special characters*:\n",
    "\n",
    "- `_`, separates the items\n",
    "- `#`, if we are dealing with continuous text, we use hashtags to mark the begining and the end of an item (usually a word)\n",
    "\n",
    "Thus, from the above table, we can see that in the 2nd learning trial, all three possible cues are present."
   ]
  },
  {
   "cell_type": "markdown",
   "metadata": {},
   "source": [
    "Let's see how many learning events (trials), and how many input units (cues) and output units (outcomes) we have :"
   ]
  },
  {
   "cell_type": "code",
   "execution_count": 72,
   "metadata": {},
   "outputs": [
    {
     "data": {
      "text/plain": [
       "[['pot'],\n",
       " ['pot', 'red', 'blue'],\n",
       " ['pot', 'red'],\n",
       " ['pot', 'red'],\n",
       " ['pot', 'blue'],\n",
       " ['pot', 'blue'],\n",
       " ['pot', 'red'],\n",
       " ['pot', 'blue'],\n",
       " ['pot', 'red'],\n",
       " ['pot', 'red'],\n",
       " ['pot', 'red', 'blue'],\n",
       " ['pot', 'blue'],\n",
       " ['pot', 'red', 'blue'],\n",
       " ['pot', 'blue'],\n",
       " ['pot', 'red'],\n",
       " ['pot', 'blue'],\n",
       " ['pot', 'red'],\n",
       " ['pot', 'blue'],\n",
       " ['pot'],\n",
       " ['pot', 'blue']]"
      ]
     },
     "execution_count": 72,
     "metadata": {},
     "output_type": "execute_result"
    }
   ],
   "source": [
    "# First, extract the cues part of all events as a list of lists\n",
    "cues_ll = tomato['cues'].apply(lambda s: s.split(\"_\")).tolist()\n",
    "cues_ll"
   ]
  },
  {
   "cell_type": "code",
   "execution_count": 73,
   "metadata": {},
   "outputs": [
    {
     "data": {
      "text/plain": [
       "{'blue', 'pot', 'red'}"
      ]
     },
     "execution_count": 73,
     "metadata": {},
     "output_type": "execute_result"
    }
   ],
   "source": [
    "# Second, extract the set of unique cues \n",
    "cues = set(itertools.chain(*cues_ll))\n",
    "cues"
   ]
  },
  {
   "cell_type": "code",
   "execution_count": 31,
   "metadata": {},
   "outputs": [
    {
     "name": "stdout",
     "output_type": "stream",
     "text": [
      "- Number of events: 20\n",
      "- Number of cues: 3\n",
      "- Number of outcomes: 2\n",
      "- The cues are: {'red', 'blue', 'pot'}\n",
      "- The outcomes are: {'NO.TOMATO', 'TOMATO'}\n"
     ]
    }
   ],
   "source": [
    "# Extract the set of unique cues outcomes\n",
    "outcomes = set(tomato['outcomes'].tolist())\n",
    "\n",
    "print(f'- Number of events: {len(tomato)}')\n",
    "print(f'- Number of cues: {len(cues)}')\n",
    "print(f'- Number of outcomes: {len(outcomes)}')\n",
    "print(f'- The cues are: {cues}')\n",
    "print(f'- The outcomes are: {outcomes}')"
   ]
  },
  {
   "cell_type": "markdown",
   "metadata": {},
   "source": [
    "## The training"
   ]
  },
  {
   "cell_type": "markdown",
   "metadata": {},
   "source": [
    "Now, we are ready to start our training. "
   ]
  },
  {
   "cell_type": "code",
   "execution_count": 71,
   "metadata": {},
   "outputs": [],
   "source": [
    "### Build a simple NDL\n",
    "p = {'epochs': 1, # number of iterations through the full set \n",
    "    'lr': 0.01 # learning rate\n",
    "    }\n",
    "\n",
    "# Model fitting\n",
    "NDL_history_dict, NDL_model = md.train(model = 'NDL',\n",
    "                                       data_train = tomato, \n",
    "                                       data_valid = tomato,  \n",
    "                                       cue_index = None, \n",
    "                                       outcome_index = None, \n",
    "                                       params = p)"
   ]
  },
  {
   "cell_type": "markdown",
   "metadata": {},
   "source": [
    "We can display the learned association weights between cues and outcomes:"
   ]
  },
  {
   "cell_type": "code",
   "execution_count": 60,
   "metadata": {},
   "outputs": [
    {
     "data": {
      "text/plain": [
       "array([[0.08070849, 0.09287923],\n",
       "       [0.0159678 , 0.07145281],\n",
       "       [0.04399349, 0.0494923 ]])"
      ]
     },
     "execution_count": 60,
     "metadata": {},
     "output_type": "execute_result"
    }
   ],
   "source": [
    "weight_matrix = np.transpose(NDL_model.weights.values)\n",
    "weight_matrix"
   ]
  },
  {
   "cell_type": "code",
   "execution_count": 61,
   "metadata": {
    "scrolled": true
   },
   "outputs": [],
   "source": [
    "all_cues = NDL_model.weights.cues.values.tolist()\n",
    "all_outcomes = NDL_model.weights.outcomes.values.tolist()"
   ]
  },
  {
   "cell_type": "code",
   "execution_count": 62,
   "metadata": {},
   "outputs": [
    {
     "data": {
      "text/html": [
       "<div>\n",
       "<style scoped>\n",
       "    .dataframe tbody tr th:only-of-type {\n",
       "        vertical-align: middle;\n",
       "    }\n",
       "\n",
       "    .dataframe tbody tr th {\n",
       "        vertical-align: top;\n",
       "    }\n",
       "\n",
       "    .dataframe thead th {\n",
       "        text-align: right;\n",
       "    }\n",
       "</style>\n",
       "<table border=\"1\" class=\"dataframe\">\n",
       "  <thead>\n",
       "    <tr style=\"text-align: right;\">\n",
       "      <th></th>\n",
       "      <th>NO.TOMATO</th>\n",
       "      <th>TOMATO</th>\n",
       "    </tr>\n",
       "  </thead>\n",
       "  <tbody>\n",
       "    <tr>\n",
       "      <th>pot</th>\n",
       "      <td>0.080708</td>\n",
       "      <td>0.092879</td>\n",
       "    </tr>\n",
       "    <tr>\n",
       "      <th>red</th>\n",
       "      <td>0.015968</td>\n",
       "      <td>0.071453</td>\n",
       "    </tr>\n",
       "    <tr>\n",
       "      <th>blue</th>\n",
       "      <td>0.043993</td>\n",
       "      <td>0.049492</td>\n",
       "    </tr>\n",
       "  </tbody>\n",
       "</table>\n",
       "</div>"
      ],
      "text/plain": [
       "      NO.TOMATO    TOMATO\n",
       "pot    0.080708  0.092879\n",
       "red    0.015968  0.071453\n",
       "blue   0.043993  0.049492"
      ]
     },
     "execution_count": 62,
     "metadata": {},
     "output_type": "execute_result"
    }
   ],
   "source": [
    "pd.DataFrame(weight_matrix, index=all_cues, columns=all_outcomes)"
   ]
  },
  {
   "cell_type": "markdown",
   "metadata": {},
   "source": [
    "### Train over multiple epochs\n",
    "\n",
    "Now let's train the model for longer by going through the data 10 times"
   ]
  },
  {
   "cell_type": "code",
   "execution_count": 68,
   "metadata": {
    "scrolled": true
   },
   "outputs": [],
   "source": [
    "### Build a simple NDL\n",
    "p = {'epochs': 10, # number of iterations through the full set \n",
    "    'lr': 0.01 # learning rate\n",
    "    }\n",
    "\n",
    "# Model fitting\n",
    "NDL_history_dict, NDL_model = md.train(model = 'NDL',\n",
    "                                       data_train = tomato, \n",
    "                                       data_valid = tomato,  \n",
    "                                       cue_index = None, \n",
    "                                       outcome_index = None, \n",
    "                                       params = p)"
   ]
  },
  {
   "cell_type": "markdown",
   "metadata": {},
   "source": [
    "The new weight matrix is given by:"
   ]
  },
  {
   "cell_type": "code",
   "execution_count": 69,
   "metadata": {
    "scrolled": true
   },
   "outputs": [
    {
     "data": {
      "text/html": [
       "<div>\n",
       "<style scoped>\n",
       "    .dataframe tbody tr th:only-of-type {\n",
       "        vertical-align: middle;\n",
       "    }\n",
       "\n",
       "    .dataframe tbody tr th {\n",
       "        vertical-align: top;\n",
       "    }\n",
       "\n",
       "    .dataframe thead th {\n",
       "        text-align: right;\n",
       "    }\n",
       "</style>\n",
       "<table border=\"1\" class=\"dataframe\">\n",
       "  <thead>\n",
       "    <tr style=\"text-align: right;\">\n",
       "      <th></th>\n",
       "      <th>NO.TOMATO</th>\n",
       "      <th>TOMATO</th>\n",
       "    </tr>\n",
       "  </thead>\n",
       "  <tbody>\n",
       "    <tr>\n",
       "      <th>pot</th>\n",
       "      <td>0.343185</td>\n",
       "      <td>0.296085</td>\n",
       "    </tr>\n",
       "    <tr>\n",
       "      <th>red</th>\n",
       "      <td>-0.050467</td>\n",
       "      <td>0.325693</td>\n",
       "    </tr>\n",
       "    <tr>\n",
       "      <th>blue</th>\n",
       "      <td>0.141356</td>\n",
       "      <td>0.149415</td>\n",
       "    </tr>\n",
       "  </tbody>\n",
       "</table>\n",
       "</div>"
      ],
      "text/plain": [
       "      NO.TOMATO    TOMATO\n",
       "pot    0.343185  0.296085\n",
       "red   -0.050467  0.325693\n",
       "blue   0.141356  0.149415"
      ]
     },
     "execution_count": 69,
     "metadata": {},
     "output_type": "execute_result"
    }
   ],
   "source": [
    "weight_matrix = np.transpose(NDL_model.weights.values)\n",
    "all_cues = NDL_model.weights.cues.values.tolist()\n",
    "all_outcomes = NDL_model.weights.outcomes.values.tolist()\n",
    "pd.DataFrame(weight_matrix, index=all_cues, columns=all_outcomes)"
   ]
  },
  {
   "cell_type": "markdown",
   "metadata": {},
   "source": [
    "Th following function allow you to assess the learning by displaying what we call the learning curve. It's basically the evolution of a performance measure across the epochs"
   ]
  },
  {
   "cell_type": "code",
   "execution_count": 70,
   "metadata": {
    "scrolled": true
   },
   "outputs": [
    {
     "name": "stderr",
     "output_type": "stream",
     "text": [
      "No handles with labels found to put in legend.\n"
     ]
    },
    {
     "data": {
      "image/png": "[encoded data removed]",
      "text/plain": [
       "<Figure size 432x288 with 1 Axes>"
      ]
     },
     "metadata": {
      "needs_background": "light"
     },
     "output_type": "display_data"
    }
   ],
   "source": [
    "# Generate learning curve\n",
    "ev.plot_learning_curve(history_dict = NDL_history_dict, metric = 'accuracy', set = 'train')"
   ]
  },
  {
   "cell_type": "markdown",
   "metadata": {},
   "source": [
    "Notice that the discrimination bewteen the cues only really happened after the 5th epoch. The amount of data that a model encounters determines its performance, and basically the 'epoch' parameter allows you to adjust that amount. "
   ]
  }
 ],
 "metadata": {
  "kernelspec": {
   "display_name": "Python 3",
   "language": "python",
   "name": "python3"
  },
  "language_info": {
   "codemirror_mode": {
    "name": "ipython",
    "version": 3
   },
   "file_extension": ".py",
   "mimetype": "text/x-python",
   "name": "python",
   "nbconvert_exporter": "python",
   "pygments_lexer": "ipython3",
   "version": "3.6.8"
  }
 },
 "nbformat": 4,
 "nbformat_minor": 2
}
